{
 "cells": [
  {
   "cell_type": "markdown",
   "metadata": {},
   "source": [
    "#  Notebook 1: Data Processing\n",
    "\n",
    "In this notebook I want to complete the following things:\n",
    "\n",
    "> *Determine ground-truth labels from the metadata and merge the two data dumps for analysis (expected content in hand-in: code)*\n",
    "\n",
    "#### Methodology\n",
    "* loading data\n",
    "* cleaning/preprocesing data\n",
    "* combining data \n",
    "* saving data for analysis later\n",
    "\n",
    "#### Project Structure\n",
    "```\n",
    "/venv\n",
    "/tractable_ds_excercise_data\n",
    "/data_processing.ipynb (this notebook)\n",
    "```\n",
    "\n",
    "#### DataPipeline description:\n",
    "* Remove the unncessary fields (e.g.make,model,year,poi,line_num, part_price,labour_amt)\n",
    "* Collate classifier scores into vector representation\n",
    "* Collate metadata scores into vector representations\n",
    "\n",
    "Merged Table Structure:\n",
    "\n",
    "| Field | Description |\n",
    "| :--- | :----------- |\n",
    "| claim_id | Claim id (int) |\n",
    "| part | Name of car body part (str) |\n",
    "| urr_score | Score from classifier (float) |\n",
    "| set | Train/Validation/Test split (int) |\n",
    "| operation | Operation conducted (undamaged/repair/replace) |\n",
    "\n",
    "\n",
    "\n",
    "#### Data Findings\n",
    "\n",
    "Data Breakdown (Train/Validation/Test):\n",
    "\n",
    "|  | Undamaged | Repair | Replace | Total |\n",
    "| :--- | --------- | ------ | ------- | ----- |\n",
    "| Train| 639766 | 111713 | 48401 | 799880\n",
    "| Validation | 80021 | 13724 | 6035 |99780\n",
    "| Test| 80386 | 14028 | 5926 |100340\n",
    "\n",
    "\n",
    "Breakdown of Repair and Replace by parts:\n"
   ]
  },
  {
   "cell_type": "markdown",
   "metadata": {},
   "source": [
    "### Import Data"
   ]
  },
  {
   "cell_type": "code",
   "execution_count": 9,
   "metadata": {},
   "outputs": [
    {
     "name": "stdout",
     "output_type": "stream",
     "text": [
      "Requirement already satisfied: pandas in ./venv/lib/python3.8/site-packages (1.1.5)\r\n",
      "Requirement already satisfied: numpy>=1.15.4 in ./venv/lib/python3.8/site-packages (from pandas) (1.19.4)\r\n",
      "Requirement already satisfied: pytz>=2017.2 in ./venv/lib/python3.8/site-packages (from pandas) (2020.4)\r\n",
      "Requirement already satisfied: python-dateutil>=2.7.3 in ./venv/lib/python3.8/site-packages (from pandas) (2.8.1)\r\n",
      "Requirement already satisfied: six>=1.5 in ./venv/lib/python3.8/site-packages (from python-dateutil>=2.7.3->pandas) (1.15.0)\r\n"
     ]
    }
   ],
   "source": [
    "# Requirements\n",
    "!pip install pandas\n",
    "\n",
    "DATA_FILE = './tractable_ds_excercise_data'"
   ]
  },
  {
   "cell_type": "code",
   "execution_count": 125,
   "metadata": {},
   "outputs": [
    {
     "data": {
      "text/html": [
       "<div>\n",
       "<style scoped>\n",
       "    .dataframe tbody tr th:only-of-type {\n",
       "        vertical-align: middle;\n",
       "    }\n",
       "\n",
       "    .dataframe tbody tr th {\n",
       "        vertical-align: top;\n",
       "    }\n",
       "\n",
       "    .dataframe thead th {\n",
       "        text-align: right;\n",
       "    }\n",
       "</style>\n",
       "<table border=\"1\" class=\"dataframe\">\n",
       "  <thead>\n",
       "    <tr style=\"text-align: right;\">\n",
       "      <th></th>\n",
       "      <th>claim_id</th>\n",
       "      <th>part</th>\n",
       "      <th>urr_score</th>\n",
       "      <th>set</th>\n",
       "    </tr>\n",
       "  </thead>\n",
       "  <tbody>\n",
       "    <tr>\n",
       "      <th>0</th>\n",
       "      <td>0</td>\n",
       "      <td>fbumper</td>\n",
       "      <td>0.464102</td>\n",
       "      <td>0</td>\n",
       "    </tr>\n",
       "    <tr>\n",
       "      <th>1</th>\n",
       "      <td>0</td>\n",
       "      <td>bbumper</td>\n",
       "      <td>0.680342</td>\n",
       "      <td>0</td>\n",
       "    </tr>\n",
       "    <tr>\n",
       "      <th>2</th>\n",
       "      <td>0</td>\n",
       "      <td>bldoor</td>\n",
       "      <td>NaN</td>\n",
       "      <td>0</td>\n",
       "    </tr>\n",
       "    <tr>\n",
       "      <th>3</th>\n",
       "      <td>0</td>\n",
       "      <td>brdoor</td>\n",
       "      <td>NaN</td>\n",
       "      <td>0</td>\n",
       "    </tr>\n",
       "    <tr>\n",
       "      <th>4</th>\n",
       "      <td>0</td>\n",
       "      <td>frdoor</td>\n",
       "      <td>NaN</td>\n",
       "      <td>0</td>\n",
       "    </tr>\n",
       "    <tr>\n",
       "      <th>...</th>\n",
       "      <td>...</td>\n",
       "      <td>...</td>\n",
       "      <td>...</td>\n",
       "      <td>...</td>\n",
       "    </tr>\n",
       "    <tr>\n",
       "      <th>999995</th>\n",
       "      <td>99999</td>\n",
       "      <td>fldoor</td>\n",
       "      <td>0.237536</td>\n",
       "      <td>0</td>\n",
       "    </tr>\n",
       "    <tr>\n",
       "      <th>999996</th>\n",
       "      <td>99999</td>\n",
       "      <td>frwing</td>\n",
       "      <td>NaN</td>\n",
       "      <td>0</td>\n",
       "    </tr>\n",
       "    <tr>\n",
       "      <th>999997</th>\n",
       "      <td>99999</td>\n",
       "      <td>flwing</td>\n",
       "      <td>NaN</td>\n",
       "      <td>0</td>\n",
       "    </tr>\n",
       "    <tr>\n",
       "      <th>999998</th>\n",
       "      <td>99999</td>\n",
       "      <td>brwing</td>\n",
       "      <td>0.429212</td>\n",
       "      <td>0</td>\n",
       "    </tr>\n",
       "    <tr>\n",
       "      <th>999999</th>\n",
       "      <td>99999</td>\n",
       "      <td>blwing</td>\n",
       "      <td>0.184987</td>\n",
       "      <td>0</td>\n",
       "    </tr>\n",
       "  </tbody>\n",
       "</table>\n",
       "<p>1000000 rows × 4 columns</p>\n",
       "</div>"
      ],
      "text/plain": [
       "        claim_id     part  urr_score  set\n",
       "0              0  fbumper   0.464102    0\n",
       "1              0  bbumper   0.680342    0\n",
       "2              0   bldoor        NaN    0\n",
       "3              0   brdoor        NaN    0\n",
       "4              0   frdoor        NaN    0\n",
       "...          ...      ...        ...  ...\n",
       "999995     99999   fldoor   0.237536    0\n",
       "999996     99999   frwing        NaN    0\n",
       "999997     99999   flwing        NaN    0\n",
       "999998     99999   brwing   0.429212    0\n",
       "999999     99999   blwing   0.184987    0\n",
       "\n",
       "[1000000 rows x 4 columns]"
      ]
     },
     "execution_count": 125,
     "metadata": {},
     "output_type": "execute_result"
    }
   ],
   "source": [
    "# Lets check classifier data\n",
    "import pandas as pd\n",
    "\n",
    "c_df = pd.read_csv(DATA_FILE + '/classifier_output.csv')\n",
    "c_df"
   ]
  },
  {
   "cell_type": "code",
   "execution_count": 143,
   "metadata": {},
   "outputs": [
    {
     "data": {
      "text/html": [
       "<div>\n",
       "<style scoped>\n",
       "    .dataframe tbody tr th:only-of-type {\n",
       "        vertical-align: middle;\n",
       "    }\n",
       "\n",
       "    .dataframe tbody tr th {\n",
       "        vertical-align: top;\n",
       "    }\n",
       "\n",
       "    .dataframe thead th {\n",
       "        text-align: right;\n",
       "    }\n",
       "</style>\n",
       "<table border=\"1\" class=\"dataframe\">\n",
       "  <thead>\n",
       "    <tr style=\"text-align: right;\">\n",
       "      <th></th>\n",
       "      <th>claim_id</th>\n",
       "      <th>part</th>\n",
       "      <th>operation</th>\n",
       "    </tr>\n",
       "  </thead>\n",
       "  <tbody>\n",
       "    <tr>\n",
       "      <th>0</th>\n",
       "      <td>7535.0</td>\n",
       "      <td>fbumper</td>\n",
       "      <td>replace</td>\n",
       "    </tr>\n",
       "    <tr>\n",
       "      <th>1</th>\n",
       "      <td>2643.0</td>\n",
       "      <td>bbumper</td>\n",
       "      <td>repair</td>\n",
       "    </tr>\n",
       "    <tr>\n",
       "      <th>2</th>\n",
       "      <td>50303.0</td>\n",
       "      <td>blwing</td>\n",
       "      <td>repair</td>\n",
       "    </tr>\n",
       "    <tr>\n",
       "      <th>3</th>\n",
       "      <td>73273.0</td>\n",
       "      <td>frwing</td>\n",
       "      <td>repair</td>\n",
       "    </tr>\n",
       "    <tr>\n",
       "      <th>4</th>\n",
       "      <td>53560.0</td>\n",
       "      <td>fldoor</td>\n",
       "      <td>repair</td>\n",
       "    </tr>\n",
       "    <tr>\n",
       "      <th>...</th>\n",
       "      <td>...</td>\n",
       "      <td>...</td>\n",
       "      <td>...</td>\n",
       "    </tr>\n",
       "    <tr>\n",
       "      <th>4995</th>\n",
       "      <td>77280.0</td>\n",
       "      <td>brdoor</td>\n",
       "      <td>repair</td>\n",
       "    </tr>\n",
       "    <tr>\n",
       "      <th>4996</th>\n",
       "      <td>32276.0</td>\n",
       "      <td>bbumper</td>\n",
       "      <td>replace</td>\n",
       "    </tr>\n",
       "    <tr>\n",
       "      <th>4997</th>\n",
       "      <td>4165.0</td>\n",
       "      <td>flwing</td>\n",
       "      <td>repair</td>\n",
       "    </tr>\n",
       "    <tr>\n",
       "      <th>4998</th>\n",
       "      <td>50613.0</td>\n",
       "      <td>bbumper</td>\n",
       "      <td>repair</td>\n",
       "    </tr>\n",
       "    <tr>\n",
       "      <th>4999</th>\n",
       "      <td>41948.0</td>\n",
       "      <td>bbumper</td>\n",
       "      <td>replace</td>\n",
       "    </tr>\n",
       "  </tbody>\n",
       "</table>\n",
       "<p>199827 rows × 3 columns</p>\n",
       "</div>"
      ],
      "text/plain": [
       "      claim_id     part operation\n",
       "0       7535.0  fbumper   replace\n",
       "1       2643.0  bbumper    repair\n",
       "2      50303.0   blwing    repair\n",
       "3      73273.0   frwing    repair\n",
       "4      53560.0   fldoor    repair\n",
       "...        ...      ...       ...\n",
       "4995   77280.0   brdoor    repair\n",
       "4996   32276.0  bbumper   replace\n",
       "4997    4165.0   flwing    repair\n",
       "4998   50613.0  bbumper    repair\n",
       "4999   41948.0  bbumper   replace\n",
       "\n",
       "[199827 rows x 3 columns]"
      ]
     },
     "execution_count": 143,
     "metadata": {},
     "output_type": "execute_result"
    }
   ],
   "source": [
    "# Lets check metadata\n",
    "import os\n",
    "\n",
    "df_list = [pd.read_csv(DATA_FILE + '/metadata'+ '/'+ file) for file in os.listdir(DATA_FILE +'/metadata')]\n",
    "m_df = pd.concat(df_list)\n",
    "\n",
    "# lets also remove all unneccessary fields\n",
    "m_df = m_df.drop(columns=['make','model','year', 'poi', 'line_num', 'part_price', 'labour_amt', 'Unnamed: 0'])\n",
    "m_df"
   ]
  },
  {
   "cell_type": "markdown",
   "metadata": {},
   "source": [
    "### Clean / Merge Data"
   ]
  },
  {
   "cell_type": "code",
   "execution_count": 127,
   "metadata": {},
   "outputs": [
    {
     "data": {
      "text/plain": [
       "(     claim_id     part  urr_score  set\n",
       " 200        20  fbumper   0.269102    0\n",
       " 201        20  bbumper   0.447384    0\n",
       " 202        20   bldoor   0.412994    0\n",
       " 203        20   brdoor   0.331167    0\n",
       " 204        20   frdoor        NaN    0\n",
       " 205        20   fldoor   0.485910    0\n",
       " 206        20   frwing        NaN    0\n",
       " 207        20   flwing   0.368965    0\n",
       " 208        20   brwing   0.301396    0\n",
       " 209        20   blwing   0.575618    0,\n",
       "       claim_id     part operation\n",
       " 615       20.0   blwing    repair\n",
       " 4486      20.0  bbumper    repair)"
      ]
     },
     "execution_count": 127,
     "metadata": {},
     "output_type": "execute_result"
    }
   ],
   "source": [
    "from typing import Tuple\n",
    "\n",
    "def get_classifier_and_metadata(claim_id: int) -> Tuple[pd.DataFrame, pd.DataFrame]:\n",
    "    return c_df[c_df['claim_id']==claim_id], m_df[m_df['claim_id']==claim_id]\n",
    "\n",
    "get_classifier_and_metadata(20)"
   ]
  },
  {
   "cell_type": "code",
   "execution_count": 148,
   "metadata": {},
   "outputs": [],
   "source": [
    "merged_pd = pd.merge(c_df, m_df, on=['claim_id', 'part'], how='left')\n",
    "\n",
    "# also where we have empty values (e.g no claim is made, set these values to 0)\n",
    "merged_pd['operation'] = merged_pd['operation'].fillna('undamaged')"
   ]
  },
  {
   "cell_type": "code",
   "execution_count": 149,
   "metadata": {},
   "outputs": [
    {
     "data": {
      "text/plain": [
       "(       claim_id     part  urr_score  set  operation\n",
       " 54300      5430  fbumper   0.380594    1     repair\n",
       " 54301      5430  bbumper   0.542645    1  undamaged\n",
       " 54302      5430   bldoor   0.384501    1  undamaged\n",
       " 54303      5430   brdoor   0.150392    1  undamaged\n",
       " 54304      5430   frdoor   0.095429    1  undamaged\n",
       " 54305      5430   fldoor   0.662270    1    replace\n",
       " 54306      5430   frwing        NaN    1  undamaged\n",
       " 54307      5430   flwing   0.537756    1    replace\n",
       " 54308      5430   brwing   0.405801    1  undamaged\n",
       " 54309      5430   blwing   0.731776    1     repair,\n",
       " (       claim_id     part  urr_score  set\n",
       "  54300      5430  fbumper   0.380594    1\n",
       "  54301      5430  bbumper   0.542645    1\n",
       "  54302      5430   bldoor   0.384501    1\n",
       "  54303      5430   brdoor   0.150392    1\n",
       "  54304      5430   frdoor   0.095429    1\n",
       "  54305      5430   fldoor   0.662270    1\n",
       "  54306      5430   frwing        NaN    1\n",
       "  54307      5430   flwing   0.537756    1\n",
       "  54308      5430   brwing   0.405801    1\n",
       "  54309      5430   blwing   0.731776    1,\n",
       "        claim_id     part operation\n",
       "  4503    5430.0   blwing    repair\n",
       "  352     5430.0  fbumper    repair\n",
       "  1453    5430.0   fldoor   replace\n",
       "  2088    5430.0   flwing   replace))"
      ]
     },
     "execution_count": 149,
     "metadata": {},
     "output_type": "execute_result"
    }
   ],
   "source": [
    "# lets just sanity check our merged PD with the both original tables\n",
    "claim_id = 5430\n",
    "\n",
    "merged_pd[merged_pd['claim_id']==claim_id], get_classifier_and_metadata(claim_id)"
   ]
  },
  {
   "cell_type": "markdown",
   "metadata": {},
   "source": [
    "### Analyse the performance\n",
    "* Produce ROC graphs for classifiying normal vs replace, normal vs repair and repair vs replace\n",
    "* Calculate AUC for each of the above graphs\n",
    "* Be clear to only use test set for calculations"
   ]
  },
  {
   "cell_type": "code",
   "execution_count": 150,
   "metadata": {},
   "outputs": [],
   "source": [
    "# lets firstly clean up operations data to be integer\n",
    "m_df['claim_id'] = [int(value) for value in m_df['claim_id']]\n",
    "\n",
    "def operation2code(x):\n",
    "    if x == 'undamaged':\n",
    "        return 0\n",
    "    elif x == 'repair':\n",
    "        return 1\n",
    "    elif x == 'replace':\n",
    "        return 2\n",
    "    else:\n",
    "        raise ValueError(f\"recieved operation: {x}\")\n",
    "\n",
    "merged_pd['operation'] = merged_pd['operation'].apply(operation2code)"
   ]
  },
  {
   "cell_type": "code",
   "execution_count": 154,
   "metadata": {},
   "outputs": [],
   "source": [
    "merged_pd[merged_pd['set']==2]\n",
    "merged_pd.to_csv(\"./combined_data.csv\")"
   ]
  },
  {
   "cell_type": "code",
   "execution_count": 173,
   "metadata": {},
   "outputs": [
    {
     "name": "stdout",
     "output_type": "stream",
     "text": [
      "799880\n",
      "Set: 0, Status: 0: 639766\n",
      "Set: 0, Status: 1: 111713\n",
      "Set: 0, Status: 2: 48401\n",
      "99780\n",
      "Set: 1, Status: 0: 80021\n",
      "Set: 1, Status: 1: 13724\n",
      "Set: 1, Status: 2: 6035\n",
      "100340\n",
      "Set: 2, Status: 0: 80386\n",
      "Set: 2, Status: 1: 14028\n",
      "Set: 2, Status: 2: 5926\n"
     ]
    }
   ],
   "source": [
    "# additional data analysis\n",
    "for set_idx in range(3):\n",
    "    print(len(merged_pd.query(f'set=={set_idx}')))\n",
    "    for status_idx in range(3):\n",
    "        print(f\"Set: {set_idx}, Status: {status_idx}: {len(merged_pd.query(f'set=={set_idx} & operation=={status_idx}'))}\")"
   ]
  },
  {
   "cell_type": "code",
   "execution_count": null,
   "metadata": {},
   "outputs": [],
   "source": [
    "status_idx = 1\n",
    "for set_idx in range(3):\n",
    "    print(f\"Set: {set_idx}, Status: {status_idx}: {len(merged_pd.query(f'set=={set_idx} & operation=={status_idx}'))}\")"
   ]
  }
 ],
 "metadata": {
  "kernelspec": {
   "display_name": "Python 3",
   "language": "python",
   "name": "python3"
  },
  "language_info": {
   "codemirror_mode": {
    "name": "ipython",
    "version": 3
   },
   "file_extension": ".py",
   "mimetype": "text/x-python",
   "name": "python",
   "nbconvert_exporter": "python",
   "pygments_lexer": "ipython3",
   "version": "3.8.0"
  }
 },
 "nbformat": 4,
 "nbformat_minor": 4
}
